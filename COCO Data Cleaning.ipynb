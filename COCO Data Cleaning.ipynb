{
 "cells": [
  {
   "cell_type": "markdown",
   "id": "d1bf4752",
   "metadata": {},
   "source": [
    "## Cleaning COCO annotations"
   ]
  },
  {
   "cell_type": "code",
   "execution_count": 29,
   "id": "b9467cc0",
   "metadata": {},
   "outputs": [],
   "source": [
    "import pandas as pd\n",
    "import numpy as np\n",
    "import json"
   ]
  },
  {
   "cell_type": "markdown",
   "id": "20999369",
   "metadata": {},
   "source": [
    "Download COCO annotations from the following link:\n",
    "<br>https://cocodataset.org/#download\n",
    "<br>Download the 2017 Train/Val annotations dataset."
   ]
  },
  {
   "cell_type": "code",
   "execution_count": 34,
   "id": "46732b99",
   "metadata": {},
   "outputs": [],
   "source": [
    "# load data using Python JSON module\n",
    "with open('panoptic_val2017.json','r') as f:\n",
    "    val_data = json.loads(f.read())\n",
    "with open('panoptic_train2017.json','r') as f:\n",
    "    train_data = json.loads(f.read())\n",
    "\n",
    "# Normalizing data\n",
    "val_images = pd.json_normalize(val_data, record_path=['images'])\n",
    "train_images = pd.json_normalize(train_data, record_path=['images'])\n",
    "\n",
    "val_annotations = pd.json_normalize(val_data['annotations'], record_path=['segments_info'], meta=['image_id','file_name'])\n",
    "train_annotations = pd.json_normalize(train_data['annotations'], record_path=['segments_info'], meta=['image_id','file_name'])\n",
    "\n",
    "categories = pd.json_normalize(train_data, record_path=['categories'])"
   ]
  },
  {
   "cell_type": "markdown",
   "id": "c6237877",
   "metadata": {},
   "source": [
    "Let's see what the data looks like:"
   ]
  },
  {
   "cell_type": "code",
   "execution_count": 76,
   "id": "26200c55",
   "metadata": {},
   "outputs": [
    {
     "data": {
      "text/html": [
       "<div>\n",
       "<style scoped>\n",
       "    .dataframe tbody tr th:only-of-type {\n",
       "        vertical-align: middle;\n",
       "    }\n",
       "\n",
       "    .dataframe tbody tr th {\n",
       "        vertical-align: top;\n",
       "    }\n",
       "\n",
       "    .dataframe thead th {\n",
       "        text-align: right;\n",
       "    }\n",
       "</style>\n",
       "<table border=\"1\" class=\"dataframe\">\n",
       "  <thead>\n",
       "    <tr style=\"text-align: right;\">\n",
       "      <th></th>\n",
       "      <th>license</th>\n",
       "      <th>file_name</th>\n",
       "      <th>coco_url</th>\n",
       "      <th>height</th>\n",
       "      <th>width</th>\n",
       "      <th>date_captured</th>\n",
       "      <th>flickr_url</th>\n",
       "      <th>id</th>\n",
       "    </tr>\n",
       "  </thead>\n",
       "  <tbody>\n",
       "    <tr>\n",
       "      <th>0</th>\n",
       "      <td>3</td>\n",
       "      <td>000000391895.jpg</td>\n",
       "      <td>http://images.cocodataset.org/train2017/000000...</td>\n",
       "      <td>360</td>\n",
       "      <td>640</td>\n",
       "      <td>2013-11-14 11:18:45</td>\n",
       "      <td>http://farm9.staticflickr.com/8186/8119368305_...</td>\n",
       "      <td>391895</td>\n",
       "    </tr>\n",
       "    <tr>\n",
       "      <th>1</th>\n",
       "      <td>4</td>\n",
       "      <td>000000522418.jpg</td>\n",
       "      <td>http://images.cocodataset.org/train2017/000000...</td>\n",
       "      <td>480</td>\n",
       "      <td>640</td>\n",
       "      <td>2013-11-14 11:38:44</td>\n",
       "      <td>http://farm1.staticflickr.com/1/127244861_ab0c...</td>\n",
       "      <td>522418</td>\n",
       "    </tr>\n",
       "    <tr>\n",
       "      <th>2</th>\n",
       "      <td>3</td>\n",
       "      <td>000000184613.jpg</td>\n",
       "      <td>http://images.cocodataset.org/train2017/000000...</td>\n",
       "      <td>336</td>\n",
       "      <td>500</td>\n",
       "      <td>2013-11-14 12:36:29</td>\n",
       "      <td>http://farm3.staticflickr.com/2169/2118578392_...</td>\n",
       "      <td>184613</td>\n",
       "    </tr>\n",
       "    <tr>\n",
       "      <th>3</th>\n",
       "      <td>3</td>\n",
       "      <td>000000318219.jpg</td>\n",
       "      <td>http://images.cocodataset.org/train2017/000000...</td>\n",
       "      <td>640</td>\n",
       "      <td>556</td>\n",
       "      <td>2013-11-14 13:02:53</td>\n",
       "      <td>http://farm5.staticflickr.com/4125/5094763076_...</td>\n",
       "      <td>318219</td>\n",
       "    </tr>\n",
       "    <tr>\n",
       "      <th>4</th>\n",
       "      <td>3</td>\n",
       "      <td>000000554625.jpg</td>\n",
       "      <td>http://images.cocodataset.org/train2017/000000...</td>\n",
       "      <td>640</td>\n",
       "      <td>426</td>\n",
       "      <td>2013-11-14 16:03:19</td>\n",
       "      <td>http://farm5.staticflickr.com/4086/5094162993_...</td>\n",
       "      <td>554625</td>\n",
       "    </tr>\n",
       "  </tbody>\n",
       "</table>\n",
       "</div>"
      ],
      "text/plain": [
       "   license         file_name  \\\n",
       "0        3  000000391895.jpg   \n",
       "1        4  000000522418.jpg   \n",
       "2        3  000000184613.jpg   \n",
       "3        3  000000318219.jpg   \n",
       "4        3  000000554625.jpg   \n",
       "\n",
       "                                            coco_url  height  width  \\\n",
       "0  http://images.cocodataset.org/train2017/000000...     360    640   \n",
       "1  http://images.cocodataset.org/train2017/000000...     480    640   \n",
       "2  http://images.cocodataset.org/train2017/000000...     336    500   \n",
       "3  http://images.cocodataset.org/train2017/000000...     640    556   \n",
       "4  http://images.cocodataset.org/train2017/000000...     640    426   \n",
       "\n",
       "         date_captured                                         flickr_url  \\\n",
       "0  2013-11-14 11:18:45  http://farm9.staticflickr.com/8186/8119368305_...   \n",
       "1  2013-11-14 11:38:44  http://farm1.staticflickr.com/1/127244861_ab0c...   \n",
       "2  2013-11-14 12:36:29  http://farm3.staticflickr.com/2169/2118578392_...   \n",
       "3  2013-11-14 13:02:53  http://farm5.staticflickr.com/4125/5094763076_...   \n",
       "4  2013-11-14 16:03:19  http://farm5.staticflickr.com/4086/5094162993_...   \n",
       "\n",
       "       id  \n",
       "0  391895  \n",
       "1  522418  \n",
       "2  184613  \n",
       "3  318219  \n",
       "4  554625  "
      ]
     },
     "execution_count": 76,
     "metadata": {},
     "output_type": "execute_result"
    }
   ],
   "source": [
    "train_images.head()"
   ]
  },
  {
   "cell_type": "code",
   "execution_count": 77,
   "id": "0537a43e",
   "metadata": {},
   "outputs": [
    {
     "data": {
      "text/html": [
       "<div>\n",
       "<style scoped>\n",
       "    .dataframe tbody tr th:only-of-type {\n",
       "        vertical-align: middle;\n",
       "    }\n",
       "\n",
       "    .dataframe tbody tr th {\n",
       "        vertical-align: top;\n",
       "    }\n",
       "\n",
       "    .dataframe thead th {\n",
       "        text-align: right;\n",
       "    }\n",
       "</style>\n",
       "<table border=\"1\" class=\"dataframe\">\n",
       "  <thead>\n",
       "    <tr style=\"text-align: right;\">\n",
       "      <th></th>\n",
       "      <th>supercategory</th>\n",
       "      <th>isthing</th>\n",
       "      <th>id</th>\n",
       "      <th>name</th>\n",
       "    </tr>\n",
       "  </thead>\n",
       "  <tbody>\n",
       "    <tr>\n",
       "      <th>0</th>\n",
       "      <td>person</td>\n",
       "      <td>1</td>\n",
       "      <td>1</td>\n",
       "      <td>person</td>\n",
       "    </tr>\n",
       "    <tr>\n",
       "      <th>1</th>\n",
       "      <td>vehicle</td>\n",
       "      <td>1</td>\n",
       "      <td>2</td>\n",
       "      <td>bicycle</td>\n",
       "    </tr>\n",
       "    <tr>\n",
       "      <th>2</th>\n",
       "      <td>vehicle</td>\n",
       "      <td>1</td>\n",
       "      <td>3</td>\n",
       "      <td>car</td>\n",
       "    </tr>\n",
       "    <tr>\n",
       "      <th>3</th>\n",
       "      <td>vehicle</td>\n",
       "      <td>1</td>\n",
       "      <td>4</td>\n",
       "      <td>motorcycle</td>\n",
       "    </tr>\n",
       "    <tr>\n",
       "      <th>4</th>\n",
       "      <td>vehicle</td>\n",
       "      <td>1</td>\n",
       "      <td>5</td>\n",
       "      <td>airplane</td>\n",
       "    </tr>\n",
       "  </tbody>\n",
       "</table>\n",
       "</div>"
      ],
      "text/plain": [
       "  supercategory  isthing  id        name\n",
       "0        person        1   1      person\n",
       "1       vehicle        1   2     bicycle\n",
       "2       vehicle        1   3         car\n",
       "3       vehicle        1   4  motorcycle\n",
       "4       vehicle        1   5    airplane"
      ]
     },
     "execution_count": 77,
     "metadata": {},
     "output_type": "execute_result"
    }
   ],
   "source": [
    "categories.head()"
   ]
  },
  {
   "cell_type": "markdown",
   "id": "d0836765",
   "metadata": {},
   "source": [
    "json_normalize takes the json objects as input and prints out the tables."
   ]
  },
  {
   "cell_type": "markdown",
   "id": "82aeff6a",
   "metadata": {},
   "source": [
    "Now let's create a map between category id and name. We'll use this to create a new \"category_name\" column in our annotations data."
   ]
  },
  {
   "cell_type": "code",
   "execution_count": 43,
   "id": "b5047275",
   "metadata": {},
   "outputs": [],
   "source": [
    "category_map = {}\n",
    "for index, row in categories.iterrows():\n",
    "    category_map[int(row['id'])] = row['name']"
   ]
  },
  {
   "cell_type": "code",
   "execution_count": 44,
   "id": "129dc681",
   "metadata": {},
   "outputs": [],
   "source": [
    "train_annotations['category_name'] = train_annotations['category_id'].apply(lambda x: category_map[x])\n",
    "val_annotations['category_name'] = val_annotations['category_id'].apply(lambda x: category_map[x])"
   ]
  },
  {
   "cell_type": "code",
   "execution_count": 45,
   "id": "4264de39",
   "metadata": {},
   "outputs": [
    {
     "data": {
      "text/html": [
       "<div>\n",
       "<style scoped>\n",
       "    .dataframe tbody tr th:only-of-type {\n",
       "        vertical-align: middle;\n",
       "    }\n",
       "\n",
       "    .dataframe tbody tr th {\n",
       "        vertical-align: top;\n",
       "    }\n",
       "\n",
       "    .dataframe thead th {\n",
       "        text-align: right;\n",
       "    }\n",
       "</style>\n",
       "<table border=\"1\" class=\"dataframe\">\n",
       "  <thead>\n",
       "    <tr style=\"text-align: right;\">\n",
       "      <th></th>\n",
       "      <th>id</th>\n",
       "      <th>category_id</th>\n",
       "      <th>iscrowd</th>\n",
       "      <th>bbox</th>\n",
       "      <th>area</th>\n",
       "      <th>image_id</th>\n",
       "      <th>file_name</th>\n",
       "      <th>category_name</th>\n",
       "    </tr>\n",
       "  </thead>\n",
       "  <tbody>\n",
       "    <tr>\n",
       "      <th>0</th>\n",
       "      <td>8345037</td>\n",
       "      <td>51</td>\n",
       "      <td>0</td>\n",
       "      <td>[0, 14, 434, 374]</td>\n",
       "      <td>24315</td>\n",
       "      <td>9</td>\n",
       "      <td>000000000009.png</td>\n",
       "      <td>bowl</td>\n",
       "    </tr>\n",
       "    <tr>\n",
       "      <th>1</th>\n",
       "      <td>6968006</td>\n",
       "      <td>51</td>\n",
       "      <td>0</td>\n",
       "      <td>[312, 4, 319, 229]</td>\n",
       "      <td>34234</td>\n",
       "      <td>9</td>\n",
       "      <td>000000000009.png</td>\n",
       "      <td>bowl</td>\n",
       "    </tr>\n",
       "    <tr>\n",
       "      <th>2</th>\n",
       "      <td>2005197</td>\n",
       "      <td>51</td>\n",
       "      <td>0</td>\n",
       "      <td>[1, 189, 612, 285]</td>\n",
       "      <td>70036</td>\n",
       "      <td>9</td>\n",
       "      <td>000000000009.png</td>\n",
       "      <td>bowl</td>\n",
       "    </tr>\n",
       "    <tr>\n",
       "      <th>3</th>\n",
       "      <td>3658235</td>\n",
       "      <td>55</td>\n",
       "      <td>0</td>\n",
       "      <td>[387, 74, 83, 70]</td>\n",
       "      <td>3566</td>\n",
       "      <td>9</td>\n",
       "      <td>000000000009.png</td>\n",
       "      <td>orange</td>\n",
       "    </tr>\n",
       "    <tr>\n",
       "      <th>4</th>\n",
       "      <td>2803959</td>\n",
       "      <td>55</td>\n",
       "      <td>0</td>\n",
       "      <td>[376, 40, 76, 47]</td>\n",
       "      <td>2241</td>\n",
       "      <td>9</td>\n",
       "      <td>000000000009.png</td>\n",
       "      <td>orange</td>\n",
       "    </tr>\n",
       "  </tbody>\n",
       "</table>\n",
       "</div>"
      ],
      "text/plain": [
       "        id  category_id  iscrowd                bbox   area image_id  \\\n",
       "0  8345037           51        0   [0, 14, 434, 374]  24315        9   \n",
       "1  6968006           51        0  [312, 4, 319, 229]  34234        9   \n",
       "2  2005197           51        0  [1, 189, 612, 285]  70036        9   \n",
       "3  3658235           55        0   [387, 74, 83, 70]   3566        9   \n",
       "4  2803959           55        0   [376, 40, 76, 47]   2241        9   \n",
       "\n",
       "          file_name category_name  \n",
       "0  000000000009.png          bowl  \n",
       "1  000000000009.png          bowl  \n",
       "2  000000000009.png          bowl  \n",
       "3  000000000009.png        orange  \n",
       "4  000000000009.png        orange  "
      ]
     },
     "execution_count": 45,
     "metadata": {},
     "output_type": "execute_result"
    }
   ],
   "source": [
    "train_annotations.head()"
   ]
  },
  {
   "cell_type": "code",
   "execution_count": 46,
   "id": "678e4e53",
   "metadata": {},
   "outputs": [
    {
     "data": {
      "text/plain": [
       "((5000, 8), (118287, 8))"
      ]
     },
     "execution_count": 46,
     "metadata": {},
     "output_type": "execute_result"
    }
   ],
   "source": [
    "val_images.shape, train_images.shape"
   ]
  },
  {
   "cell_type": "code",
   "execution_count": 47,
   "id": "8074ae9d",
   "metadata": {},
   "outputs": [
    {
     "data": {
      "text/html": [
       "<div>\n",
       "<style scoped>\n",
       "    .dataframe tbody tr th:only-of-type {\n",
       "        vertical-align: middle;\n",
       "    }\n",
       "\n",
       "    .dataframe tbody tr th {\n",
       "        vertical-align: top;\n",
       "    }\n",
       "\n",
       "    .dataframe thead th {\n",
       "        text-align: right;\n",
       "    }\n",
       "</style>\n",
       "<table border=\"1\" class=\"dataframe\">\n",
       "  <thead>\n",
       "    <tr style=\"text-align: right;\">\n",
       "      <th></th>\n",
       "      <th>license</th>\n",
       "      <th>file_name</th>\n",
       "      <th>coco_url</th>\n",
       "      <th>height</th>\n",
       "      <th>width</th>\n",
       "      <th>date_captured</th>\n",
       "      <th>flickr_url</th>\n",
       "      <th>id</th>\n",
       "    </tr>\n",
       "  </thead>\n",
       "  <tbody>\n",
       "    <tr>\n",
       "      <th>0</th>\n",
       "      <td>3</td>\n",
       "      <td>000000391895.jpg</td>\n",
       "      <td>http://images.cocodataset.org/train2017/000000...</td>\n",
       "      <td>360</td>\n",
       "      <td>640</td>\n",
       "      <td>2013-11-14 11:18:45</td>\n",
       "      <td>http://farm9.staticflickr.com/8186/8119368305_...</td>\n",
       "      <td>391895</td>\n",
       "    </tr>\n",
       "    <tr>\n",
       "      <th>1</th>\n",
       "      <td>4</td>\n",
       "      <td>000000522418.jpg</td>\n",
       "      <td>http://images.cocodataset.org/train2017/000000...</td>\n",
       "      <td>480</td>\n",
       "      <td>640</td>\n",
       "      <td>2013-11-14 11:38:44</td>\n",
       "      <td>http://farm1.staticflickr.com/1/127244861_ab0c...</td>\n",
       "      <td>522418</td>\n",
       "    </tr>\n",
       "    <tr>\n",
       "      <th>2</th>\n",
       "      <td>3</td>\n",
       "      <td>000000184613.jpg</td>\n",
       "      <td>http://images.cocodataset.org/train2017/000000...</td>\n",
       "      <td>336</td>\n",
       "      <td>500</td>\n",
       "      <td>2013-11-14 12:36:29</td>\n",
       "      <td>http://farm3.staticflickr.com/2169/2118578392_...</td>\n",
       "      <td>184613</td>\n",
       "    </tr>\n",
       "    <tr>\n",
       "      <th>3</th>\n",
       "      <td>3</td>\n",
       "      <td>000000318219.jpg</td>\n",
       "      <td>http://images.cocodataset.org/train2017/000000...</td>\n",
       "      <td>640</td>\n",
       "      <td>556</td>\n",
       "      <td>2013-11-14 13:02:53</td>\n",
       "      <td>http://farm5.staticflickr.com/4125/5094763076_...</td>\n",
       "      <td>318219</td>\n",
       "    </tr>\n",
       "    <tr>\n",
       "      <th>4</th>\n",
       "      <td>3</td>\n",
       "      <td>000000554625.jpg</td>\n",
       "      <td>http://images.cocodataset.org/train2017/000000...</td>\n",
       "      <td>640</td>\n",
       "      <td>426</td>\n",
       "      <td>2013-11-14 16:03:19</td>\n",
       "      <td>http://farm5.staticflickr.com/4086/5094162993_...</td>\n",
       "      <td>554625</td>\n",
       "    </tr>\n",
       "  </tbody>\n",
       "</table>\n",
       "</div>"
      ],
      "text/plain": [
       "   license         file_name  \\\n",
       "0        3  000000391895.jpg   \n",
       "1        4  000000522418.jpg   \n",
       "2        3  000000184613.jpg   \n",
       "3        3  000000318219.jpg   \n",
       "4        3  000000554625.jpg   \n",
       "\n",
       "                                            coco_url  height  width  \\\n",
       "0  http://images.cocodataset.org/train2017/000000...     360    640   \n",
       "1  http://images.cocodataset.org/train2017/000000...     480    640   \n",
       "2  http://images.cocodataset.org/train2017/000000...     336    500   \n",
       "3  http://images.cocodataset.org/train2017/000000...     640    556   \n",
       "4  http://images.cocodataset.org/train2017/000000...     640    426   \n",
       "\n",
       "         date_captured                                         flickr_url  \\\n",
       "0  2013-11-14 11:18:45  http://farm9.staticflickr.com/8186/8119368305_...   \n",
       "1  2013-11-14 11:38:44  http://farm1.staticflickr.com/1/127244861_ab0c...   \n",
       "2  2013-11-14 12:36:29  http://farm3.staticflickr.com/2169/2118578392_...   \n",
       "3  2013-11-14 13:02:53  http://farm5.staticflickr.com/4125/5094763076_...   \n",
       "4  2013-11-14 16:03:19  http://farm5.staticflickr.com/4086/5094162993_...   \n",
       "\n",
       "       id  \n",
       "0  391895  \n",
       "1  522418  \n",
       "2  184613  \n",
       "3  318219  \n",
       "4  554625  "
      ]
     },
     "execution_count": 47,
     "metadata": {},
     "output_type": "execute_result"
    }
   ],
   "source": [
    "train_images.head()"
   ]
  },
  {
   "cell_type": "code",
   "execution_count": 48,
   "id": "d7cac252",
   "metadata": {},
   "outputs": [
    {
     "data": {
      "text/html": [
       "<div>\n",
       "<style scoped>\n",
       "    .dataframe tbody tr th:only-of-type {\n",
       "        vertical-align: middle;\n",
       "    }\n",
       "\n",
       "    .dataframe tbody tr th {\n",
       "        vertical-align: top;\n",
       "    }\n",
       "\n",
       "    .dataframe thead th {\n",
       "        text-align: right;\n",
       "    }\n",
       "</style>\n",
       "<table border=\"1\" class=\"dataframe\">\n",
       "  <thead>\n",
       "    <tr style=\"text-align: right;\">\n",
       "      <th></th>\n",
       "      <th>id</th>\n",
       "      <th>category_id</th>\n",
       "      <th>iscrowd</th>\n",
       "      <th>bbox</th>\n",
       "      <th>area</th>\n",
       "      <th>image_id</th>\n",
       "      <th>file_name</th>\n",
       "      <th>category_name</th>\n",
       "    </tr>\n",
       "  </thead>\n",
       "  <tbody>\n",
       "    <tr>\n",
       "      <th>0</th>\n",
       "      <td>8345037</td>\n",
       "      <td>51</td>\n",
       "      <td>0</td>\n",
       "      <td>[0, 14, 434, 374]</td>\n",
       "      <td>24315</td>\n",
       "      <td>9</td>\n",
       "      <td>000000000009.png</td>\n",
       "      <td>bowl</td>\n",
       "    </tr>\n",
       "    <tr>\n",
       "      <th>1</th>\n",
       "      <td>6968006</td>\n",
       "      <td>51</td>\n",
       "      <td>0</td>\n",
       "      <td>[312, 4, 319, 229]</td>\n",
       "      <td>34234</td>\n",
       "      <td>9</td>\n",
       "      <td>000000000009.png</td>\n",
       "      <td>bowl</td>\n",
       "    </tr>\n",
       "    <tr>\n",
       "      <th>2</th>\n",
       "      <td>2005197</td>\n",
       "      <td>51</td>\n",
       "      <td>0</td>\n",
       "      <td>[1, 189, 612, 285]</td>\n",
       "      <td>70036</td>\n",
       "      <td>9</td>\n",
       "      <td>000000000009.png</td>\n",
       "      <td>bowl</td>\n",
       "    </tr>\n",
       "    <tr>\n",
       "      <th>3</th>\n",
       "      <td>3658235</td>\n",
       "      <td>55</td>\n",
       "      <td>0</td>\n",
       "      <td>[387, 74, 83, 70]</td>\n",
       "      <td>3566</td>\n",
       "      <td>9</td>\n",
       "      <td>000000000009.png</td>\n",
       "      <td>orange</td>\n",
       "    </tr>\n",
       "    <tr>\n",
       "      <th>4</th>\n",
       "      <td>2803959</td>\n",
       "      <td>55</td>\n",
       "      <td>0</td>\n",
       "      <td>[376, 40, 76, 47]</td>\n",
       "      <td>2241</td>\n",
       "      <td>9</td>\n",
       "      <td>000000000009.png</td>\n",
       "      <td>orange</td>\n",
       "    </tr>\n",
       "  </tbody>\n",
       "</table>\n",
       "</div>"
      ],
      "text/plain": [
       "        id  category_id  iscrowd                bbox   area image_id  \\\n",
       "0  8345037           51        0   [0, 14, 434, 374]  24315        9   \n",
       "1  6968006           51        0  [312, 4, 319, 229]  34234        9   \n",
       "2  2005197           51        0  [1, 189, 612, 285]  70036        9   \n",
       "3  3658235           55        0   [387, 74, 83, 70]   3566        9   \n",
       "4  2803959           55        0   [376, 40, 76, 47]   2241        9   \n",
       "\n",
       "          file_name category_name  \n",
       "0  000000000009.png          bowl  \n",
       "1  000000000009.png          bowl  \n",
       "2  000000000009.png          bowl  \n",
       "3  000000000009.png        orange  \n",
       "4  000000000009.png        orange  "
      ]
     },
     "execution_count": 48,
     "metadata": {},
     "output_type": "execute_result"
    }
   ],
   "source": [
    "train_annotations.head()"
   ]
  },
  {
   "cell_type": "markdown",
   "id": "a154312a",
   "metadata": {},
   "source": [
    "Now let's create the full train and validation dataset, which contains image information, and for each image, the # of occurences of each category type."
   ]
  },
  {
   "cell_type": "code",
   "execution_count": 50,
   "id": "13f92c6a",
   "metadata": {},
   "outputs": [],
   "source": [
    "# Joining image and annotation DFs to get the full-info.\n",
    "train = train_images.merge(train_annotations, left_on='id', right_on='image_id')\n",
    "train.drop(['file_name_y','id_x'], axis=1, inplace=True)\n",
    "train.columns = ['license', 'file_name', 'coco_url', 'height', 'width',\n",
    "       'date_captured', 'flickr_url', 'annotation_id', 'category_id', 'iscrowd',\n",
    "       'bbox', 'area', 'image_id','category_name']\n",
    "\n",
    "# Getting the # of (non-zero) occurences of each category for every image\n",
    "train_cat_counts = train.groupby(['image_id','category_name']).count()['annotation_id'].reset_index()\n",
    "\n",
    "# Getting a single one-hot representation of category counts. Here we're getting all the categories and their counts, including zeros.\n",
    "train_one_hot_counts = pd.pivot_table(train_cat_counts, values='annotation_id', index=['image_id'],\n",
    "                    columns=['category_name'], aggfunc=np.sum)\n",
    "train_one_hot_counts.fillna(0, inplace=True)\n",
    "\n",
    "# We'll merge the images and one-hot counts to get the final dataset.\n",
    "train_data = train_images.merge(train_one_hot_counts, left_on='id', right_on='image_id')\n",
    "\n",
    "# We'll repeat the same for validation data\n",
    "\n",
    "val = val_images.merge(val_annotations, left_on='id', right_on='image_id')\n",
    "val.drop(['file_name_y','id_x'], axis=1, inplace=True)\n",
    "val.columns = ['license', 'file_name', 'coco_url', 'height', 'width',\n",
    "       'date_captured', 'flickr_url', 'annotation_id', 'category_id', 'iscrowd',\n",
    "       'bbox', 'area', 'image_id','category_name']\n",
    "\n",
    "val_cat_counts = val.groupby(['image_id','category_name']).count()['annotation_id'].reset_index()\n",
    "\n",
    "val_one_hot_counts = pd.pivot_table(val_cat_counts, values='annotation_id', index=['image_id'],\n",
    "                    columns=['category_name'], aggfunc=np.sum)\n",
    "val_one_hot_counts.fillna(0, inplace=True)\n",
    "\n",
    "val_data = val_images.merge(val_one_hot_counts, left_on='id', right_on='image_id')"
   ]
  },
  {
   "cell_type": "code",
   "execution_count": 51,
   "id": "4b3dd595",
   "metadata": {},
   "outputs": [
    {
     "data": {
      "text/plain": [
       "((118267, 141), (5000, 141))"
      ]
     },
     "execution_count": 51,
     "metadata": {},
     "output_type": "execute_result"
    }
   ],
   "source": [
    "train_data.shape, val_data.shape"
   ]
  },
  {
   "cell_type": "code",
   "execution_count": 52,
   "id": "ec7193ba",
   "metadata": {},
   "outputs": [
    {
     "data": {
      "text/plain": [
       "((1329984, 14), (56728, 14))"
      ]
     },
     "execution_count": 52,
     "metadata": {},
     "output_type": "execute_result"
    }
   ],
   "source": [
    "train.shape, val.shape"
   ]
  },
  {
   "cell_type": "code",
   "execution_count": 53,
   "id": "18950dae",
   "metadata": {},
   "outputs": [
    {
     "data": {
      "text/plain": [
       "((118267, 133), (1329984, 14))"
      ]
     },
     "execution_count": 53,
     "metadata": {},
     "output_type": "execute_result"
    }
   ],
   "source": [
    "train_one_hot_counts.shape, train.shape"
   ]
  },
  {
   "cell_type": "code",
   "execution_count": 54,
   "id": "0bc5a6d9",
   "metadata": {},
   "outputs": [
    {
     "data": {
      "text/plain": [
       "((816269, 3), (118287, 8))"
      ]
     },
     "execution_count": 54,
     "metadata": {},
     "output_type": "execute_result"
    }
   ],
   "source": [
    "train_cat_counts.shape, train_images.shape"
   ]
  },
  {
   "cell_type": "code",
   "execution_count": 55,
   "id": "12711798",
   "metadata": {},
   "outputs": [
    {
     "data": {
      "text/html": [
       "<div>\n",
       "<style scoped>\n",
       "    .dataframe tbody tr th:only-of-type {\n",
       "        vertical-align: middle;\n",
       "    }\n",
       "\n",
       "    .dataframe tbody tr th {\n",
       "        vertical-align: top;\n",
       "    }\n",
       "\n",
       "    .dataframe thead th {\n",
       "        text-align: right;\n",
       "    }\n",
       "</style>\n",
       "<table border=\"1\" class=\"dataframe\">\n",
       "  <thead>\n",
       "    <tr style=\"text-align: right;\">\n",
       "      <th></th>\n",
       "      <th>license</th>\n",
       "      <th>file_name</th>\n",
       "      <th>coco_url</th>\n",
       "      <th>height</th>\n",
       "      <th>width</th>\n",
       "      <th>date_captured</th>\n",
       "      <th>flickr_url</th>\n",
       "      <th>id</th>\n",
       "    </tr>\n",
       "  </thead>\n",
       "  <tbody>\n",
       "    <tr>\n",
       "      <th>0</th>\n",
       "      <td>3</td>\n",
       "      <td>000000391895.jpg</td>\n",
       "      <td>http://images.cocodataset.org/train2017/000000...</td>\n",
       "      <td>360</td>\n",
       "      <td>640</td>\n",
       "      <td>2013-11-14 11:18:45</td>\n",
       "      <td>http://farm9.staticflickr.com/8186/8119368305_...</td>\n",
       "      <td>391895</td>\n",
       "    </tr>\n",
       "    <tr>\n",
       "      <th>1</th>\n",
       "      <td>4</td>\n",
       "      <td>000000522418.jpg</td>\n",
       "      <td>http://images.cocodataset.org/train2017/000000...</td>\n",
       "      <td>480</td>\n",
       "      <td>640</td>\n",
       "      <td>2013-11-14 11:38:44</td>\n",
       "      <td>http://farm1.staticflickr.com/1/127244861_ab0c...</td>\n",
       "      <td>522418</td>\n",
       "    </tr>\n",
       "  </tbody>\n",
       "</table>\n",
       "</div>"
      ],
      "text/plain": [
       "   license         file_name  \\\n",
       "0        3  000000391895.jpg   \n",
       "1        4  000000522418.jpg   \n",
       "\n",
       "                                            coco_url  height  width  \\\n",
       "0  http://images.cocodataset.org/train2017/000000...     360    640   \n",
       "1  http://images.cocodataset.org/train2017/000000...     480    640   \n",
       "\n",
       "         date_captured                                         flickr_url  \\\n",
       "0  2013-11-14 11:18:45  http://farm9.staticflickr.com/8186/8119368305_...   \n",
       "1  2013-11-14 11:38:44  http://farm1.staticflickr.com/1/127244861_ab0c...   \n",
       "\n",
       "       id  \n",
       "0  391895  \n",
       "1  522418  "
      ]
     },
     "execution_count": 55,
     "metadata": {},
     "output_type": "execute_result"
    }
   ],
   "source": [
    "train_images.head(2)"
   ]
  },
  {
   "cell_type": "code",
   "execution_count": 56,
   "id": "290dc242",
   "metadata": {},
   "outputs": [
    {
     "data": {
      "text/html": [
       "<div>\n",
       "<style scoped>\n",
       "    .dataframe tbody tr th:only-of-type {\n",
       "        vertical-align: middle;\n",
       "    }\n",
       "\n",
       "    .dataframe tbody tr th {\n",
       "        vertical-align: top;\n",
       "    }\n",
       "\n",
       "    .dataframe thead th {\n",
       "        text-align: right;\n",
       "    }\n",
       "</style>\n",
       "<table border=\"1\" class=\"dataframe\">\n",
       "  <thead>\n",
       "    <tr style=\"text-align: right;\">\n",
       "      <th></th>\n",
       "      <th>image_id</th>\n",
       "      <th>category_name</th>\n",
       "      <th>annotation_id</th>\n",
       "    </tr>\n",
       "  </thead>\n",
       "  <tbody>\n",
       "    <tr>\n",
       "      <th>0</th>\n",
       "      <td>9</td>\n",
       "      <td>bowl</td>\n",
       "      <td>3</td>\n",
       "    </tr>\n",
       "    <tr>\n",
       "      <th>1</th>\n",
       "      <td>9</td>\n",
       "      <td>broccoli</td>\n",
       "      <td>1</td>\n",
       "    </tr>\n",
       "  </tbody>\n",
       "</table>\n",
       "</div>"
      ],
      "text/plain": [
       "   image_id category_name  annotation_id\n",
       "0         9          bowl              3\n",
       "1         9      broccoli              1"
      ]
     },
     "execution_count": 56,
     "metadata": {},
     "output_type": "execute_result"
    }
   ],
   "source": [
    "train_cat_counts.head(2)"
   ]
  },
  {
   "cell_type": "markdown",
   "id": "24c3e93d",
   "metadata": {},
   "source": [
    "Now let's create the occurences dataset that stores the category_name and number of occurences for every image.\n",
    "<br>Note that we only store category information of an image that has a non-zero occurence count."
   ]
  },
  {
   "cell_type": "code",
   "execution_count": 58,
   "id": "b8714621",
   "metadata": {},
   "outputs": [],
   "source": [
    "train_cat_occurences = train_images.merge(train_cat_counts, left_on='id', right_on='image_id').drop('id', axis=1)\n",
    "train_cat_occurences.columns = ['license', 'file_name', 'coco_url', 'height', 'width', 'date_captured',\n",
    "       'flickr_url', 'image_id', 'category_name', 'occurences']\n",
    "\n",
    "val_cat_occurences = val_images.merge(val_cat_counts, left_on='id', right_on='image_id').drop('id', axis=1)\n",
    "val_cat_occurences.columns = ['license', 'file_name', 'coco_url', 'height', 'width', 'date_captured',\n",
    "       'flickr_url', 'image_id', 'category_name', 'occurences']"
   ]
  },
  {
   "cell_type": "code",
   "execution_count": 59,
   "id": "2a21744f",
   "metadata": {},
   "outputs": [
    {
     "data": {
      "text/html": [
       "<div>\n",
       "<style scoped>\n",
       "    .dataframe tbody tr th:only-of-type {\n",
       "        vertical-align: middle;\n",
       "    }\n",
       "\n",
       "    .dataframe tbody tr th {\n",
       "        vertical-align: top;\n",
       "    }\n",
       "\n",
       "    .dataframe thead th {\n",
       "        text-align: right;\n",
       "    }\n",
       "</style>\n",
       "<table border=\"1\" class=\"dataframe\">\n",
       "  <thead>\n",
       "    <tr style=\"text-align: right;\">\n",
       "      <th></th>\n",
       "      <th>license</th>\n",
       "      <th>file_name</th>\n",
       "      <th>coco_url</th>\n",
       "      <th>height</th>\n",
       "      <th>width</th>\n",
       "      <th>date_captured</th>\n",
       "      <th>flickr_url</th>\n",
       "      <th>image_id</th>\n",
       "      <th>category_name</th>\n",
       "      <th>occurences</th>\n",
       "    </tr>\n",
       "  </thead>\n",
       "  <tbody>\n",
       "    <tr>\n",
       "      <th>0</th>\n",
       "      <td>3</td>\n",
       "      <td>000000391895.jpg</td>\n",
       "      <td>http://images.cocodataset.org/train2017/000000...</td>\n",
       "      <td>360</td>\n",
       "      <td>640</td>\n",
       "      <td>2013-11-14 11:18:45</td>\n",
       "      <td>http://farm9.staticflickr.com/8186/8119368305_...</td>\n",
       "      <td>391895</td>\n",
       "      <td>bicycle</td>\n",
       "      <td>1</td>\n",
       "    </tr>\n",
       "    <tr>\n",
       "      <th>1</th>\n",
       "      <td>3</td>\n",
       "      <td>000000391895.jpg</td>\n",
       "      <td>http://images.cocodataset.org/train2017/000000...</td>\n",
       "      <td>360</td>\n",
       "      <td>640</td>\n",
       "      <td>2013-11-14 11:18:45</td>\n",
       "      <td>http://farm9.staticflickr.com/8186/8119368305_...</td>\n",
       "      <td>391895</td>\n",
       "      <td>bridge</td>\n",
       "      <td>1</td>\n",
       "    </tr>\n",
       "    <tr>\n",
       "      <th>2</th>\n",
       "      <td>3</td>\n",
       "      <td>000000391895.jpg</td>\n",
       "      <td>http://images.cocodataset.org/train2017/000000...</td>\n",
       "      <td>360</td>\n",
       "      <td>640</td>\n",
       "      <td>2013-11-14 11:18:45</td>\n",
       "      <td>http://farm9.staticflickr.com/8186/8119368305_...</td>\n",
       "      <td>391895</td>\n",
       "      <td>dirt-merged</td>\n",
       "      <td>1</td>\n",
       "    </tr>\n",
       "    <tr>\n",
       "      <th>3</th>\n",
       "      <td>3</td>\n",
       "      <td>000000391895.jpg</td>\n",
       "      <td>http://images.cocodataset.org/train2017/000000...</td>\n",
       "      <td>360</td>\n",
       "      <td>640</td>\n",
       "      <td>2013-11-14 11:18:45</td>\n",
       "      <td>http://farm9.staticflickr.com/8186/8119368305_...</td>\n",
       "      <td>391895</td>\n",
       "      <td>motorcycle</td>\n",
       "      <td>1</td>\n",
       "    </tr>\n",
       "    <tr>\n",
       "      <th>4</th>\n",
       "      <td>3</td>\n",
       "      <td>000000391895.jpg</td>\n",
       "      <td>http://images.cocodataset.org/train2017/000000...</td>\n",
       "      <td>360</td>\n",
       "      <td>640</td>\n",
       "      <td>2013-11-14 11:18:45</td>\n",
       "      <td>http://farm9.staticflickr.com/8186/8119368305_...</td>\n",
       "      <td>391895</td>\n",
       "      <td>mountain-merged</td>\n",
       "      <td>1</td>\n",
       "    </tr>\n",
       "  </tbody>\n",
       "</table>\n",
       "</div>"
      ],
      "text/plain": [
       "   license         file_name  \\\n",
       "0        3  000000391895.jpg   \n",
       "1        3  000000391895.jpg   \n",
       "2        3  000000391895.jpg   \n",
       "3        3  000000391895.jpg   \n",
       "4        3  000000391895.jpg   \n",
       "\n",
       "                                            coco_url  height  width  \\\n",
       "0  http://images.cocodataset.org/train2017/000000...     360    640   \n",
       "1  http://images.cocodataset.org/train2017/000000...     360    640   \n",
       "2  http://images.cocodataset.org/train2017/000000...     360    640   \n",
       "3  http://images.cocodataset.org/train2017/000000...     360    640   \n",
       "4  http://images.cocodataset.org/train2017/000000...     360    640   \n",
       "\n",
       "         date_captured                                         flickr_url  \\\n",
       "0  2013-11-14 11:18:45  http://farm9.staticflickr.com/8186/8119368305_...   \n",
       "1  2013-11-14 11:18:45  http://farm9.staticflickr.com/8186/8119368305_...   \n",
       "2  2013-11-14 11:18:45  http://farm9.staticflickr.com/8186/8119368305_...   \n",
       "3  2013-11-14 11:18:45  http://farm9.staticflickr.com/8186/8119368305_...   \n",
       "4  2013-11-14 11:18:45  http://farm9.staticflickr.com/8186/8119368305_...   \n",
       "\n",
       "   image_id    category_name  occurences  \n",
       "0    391895          bicycle           1  \n",
       "1    391895           bridge           1  \n",
       "2    391895      dirt-merged           1  \n",
       "3    391895       motorcycle           1  \n",
       "4    391895  mountain-merged           1  "
      ]
     },
     "execution_count": 59,
     "metadata": {},
     "output_type": "execute_result"
    }
   ],
   "source": [
    "train_cat_occurences.head()"
   ]
  },
  {
   "cell_type": "markdown",
   "id": "900e3cd7",
   "metadata": {},
   "source": [
    "Let's merge the train and validation datasets and store them as one CSV file:"
   ]
  },
  {
   "cell_type": "code",
   "execution_count": 67,
   "id": "a3b90a48",
   "metadata": {},
   "outputs": [],
   "source": [
    "data = pd.concat([train_data, val_data])\n",
    "cat_occurences = pd.concat([train_cat_occurences, val_cat_occurences])\n",
    "\n",
    "data.to_csv('data.csv', index=False)\n",
    "cat_occurences.to_csv('cat_occurences.csv', index=False)"
   ]
  },
  {
   "cell_type": "code",
   "execution_count": 68,
   "id": "068f3d0e",
   "metadata": {},
   "outputs": [
    {
     "data": {
      "text/plain": [
       "((123267, 141), (850999, 10))"
      ]
     },
     "execution_count": 68,
     "metadata": {},
     "output_type": "execute_result"
    }
   ],
   "source": [
    "data.shape, cat_occurences.shape"
   ]
  }
 ],
 "metadata": {
  "kernelspec": {
   "display_name": "Python 3 (ipykernel)",
   "language": "python",
   "name": "python3"
  },
  "language_info": {
   "codemirror_mode": {
    "name": "ipython",
    "version": 3
   },
   "file_extension": ".py",
   "mimetype": "text/x-python",
   "name": "python",
   "nbconvert_exporter": "python",
   "pygments_lexer": "ipython3",
   "version": "3.9.7"
  }
 },
 "nbformat": 4,
 "nbformat_minor": 5
}
